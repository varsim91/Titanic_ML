{
 "cells": [
  {
   "cell_type": "code",
   "execution_count": 1,
   "metadata": {
    "_cell_guid": "b1076dfc-b9ad-4769-8c92-a6c4dae69d19",
    "_uuid": "8f2839f25d086af736a60e9eeb907d3b93b6e0e5"
   },
   "outputs": [
    {
     "name": "stderr",
     "output_type": "stream",
     "text": [
      "/home/paperspace/anaconda3/envs/fastai/lib/python3.6/site-packages/h5py/__init__.py:36: FutureWarning: Conversion of the second argument of issubdtype from `float` to `np.floating` is deprecated. In future, it will be treated as `np.float64 == np.dtype(float).type`.\n",
      "  from ._conv import register_converters as _register_converters\n",
      "Using TensorFlow backend.\n"
     ]
    }
   ],
   "source": [
    "import os\n",
    "import numpy as np\n",
    "import pandas as pd\n",
    "import keras\n",
    "from keras.applications.vgg16 import VGG16\n",
    "from keras.applications.resnet50 import ResNet50\n",
    "import matplotlib.pyplot as plt\n",
    "\n",
    "from keras.models import Model\n",
    "from keras.layers import Dense, Dropout, Flatten\n",
    "from tqdm import tqdm\n",
    "from sklearn import preprocessing\n",
    "from sklearn.model_selection import train_test_split\n",
    "import cv2\n",
    "from sklearn.linear_model import LogisticRegression\n",
    "from sklearn.metrics import log_loss, accuracy_score\n",
    "from sklearn.preprocessing import OneHotEncoder\n",
    "\n",
    "from keras.models import Sequential  \n",
    "from keras.layers import Dropout, Flatten, Dense  \n",
    "from keras.preprocessing import image as image_prepocessor\n"
   ]
  },
  {
   "cell_type": "code",
   "execution_count": 2,
   "metadata": {
    "_cell_guid": "8c6d7349-c956-43b0-83ea-77baae9a60fe",
    "_uuid": "32d64e15419f8994a096a0e971af795d4cc4db2a"
   },
   "outputs": [],
   "source": [
    "data_path = \"/home/paperspace/data/dogBreed/\"\n",
    "# data_path = r\"D:\\Projects\\Datas\\DogBreed\"\n",
    "im_size = 224"
   ]
  },
  {
   "cell_type": "code",
   "execution_count": 3,
   "metadata": {
    "_cell_guid": "79c7e3d0-c299-4dcb-8224-4455121ee9b0",
    "_uuid": "d629ff2d2480ee46fbb7e2d37f6b5fab8052498a"
   },
   "outputs": [],
   "source": [
    "# df_train = pd.read_csv(os.path.join(data_path, \"labels.csv\"))\n",
    "# df_test = pd.read_csv(os.path.join(data_path, \"sample_submission.csv\"))"
   ]
  },
  {
   "cell_type": "code",
   "execution_count": 4,
   "metadata": {
    "_cell_guid": "0fcd2fa5-3a29-44c2-84f4-2edd0f5d88e7",
    "_uuid": "f2caa702354ace8b6a1a56e2ca14de8accdeb61e"
   },
   "outputs": [],
   "source": [
    "# df_train.head(10)"
   ]
  },
  {
   "cell_type": "code",
   "execution_count": 5,
   "metadata": {
    "_cell_guid": "8403ea72-bf6e-4c6f-8b78-95b0d1b3761f",
    "_uuid": "d523ea3790a374feb07a8fba734cfd429fc81174"
   },
   "outputs": [],
   "source": [
    "# targets_series = pd.Series(df_train[\"breed\"])\n",
    "# one_hot = pd.get_dummies(targets_series, sparse=True)"
   ]
  },
  {
   "cell_type": "code",
   "execution_count": 6,
   "metadata": {
    "_cell_guid": "89298979-ef94-4919-a822-ac3b8c00ddd6",
    "_uuid": "140d8309ef55e3ea4c0da0469a6fbe1409c2c850"
   },
   "outputs": [],
   "source": [
    "# one_hot_labels = np.asarray(one_hot)"
   ]
  },
  {
   "cell_type": "code",
   "execution_count": 7,
   "metadata": {
    "_cell_guid": "630b3a4a-800a-41b5-888c-659479cb55c2",
    "_uuid": "61d4f57bfc61714b5b1ac2272b9d32fbc3baf919"
   },
   "outputs": [],
   "source": [
    "# one_hot_labels.shape"
   ]
  },
  {
   "cell_type": "code",
   "execution_count": 8,
   "metadata": {
    "_cell_guid": "bc16d9fd-adbe-48b8-be9e-260bf87bff1a",
    "_uuid": "a05ef115c8be71591e3d940f35644a25726a9722"
   },
   "outputs": [],
   "source": [
    "# x_train = []\n",
    "# y_train = []\n",
    "# # x_test = []"
   ]
  },
  {
   "cell_type": "code",
   "execution_count": null,
   "metadata": {},
   "outputs": [],
   "source": []
  },
  {
   "cell_type": "code",
   "execution_count": null,
   "metadata": {},
   "outputs": [],
   "source": []
  },
  {
   "cell_type": "code",
   "execution_count": 9,
   "metadata": {},
   "outputs": [],
   "source": [
    "def read_img(img_id, training, size):\n",
    "    if training == 'train':\n",
    "        file_path = _training_image_loc\n",
    "    else:\n",
    "        file_path = _testing_image_loc\n",
    "    img = image_prepocessor.load_img(os.path.join(file_path, '%s.jpg' % img_id), target_size=size)\n",
    "    img = image_prepocessor.img_to_array(img)\n",
    "    return img"
   ]
  },
  {
   "cell_type": "code",
   "execution_count": 10,
   "metadata": {},
   "outputs": [],
   "source": [
    "_training_image_loc = os.path.join(data_path, \"train\")\n",
    "_training_label_loc = os.path.join(data_path, \"labels.csv\")\n",
    "_testing_image_loc = os.path.join(data_path, \"test\")\n",
    "_sample_sub_loc = os.path.join(data_path, \"sample_submission.csv\")"
   ]
  },
  {
   "cell_type": "code",
   "execution_count": 11,
   "metadata": {},
   "outputs": [],
   "source": [
    "df = pd.read_csv(_training_label_loc, index_col=0)\n",
    "dog_breeds, labels = np.unique(df.values, return_inverse=True)\n",
    "no_of_breeds = len(dog_breeds)\n",
    "labels = labels.reshape(-1, 1)\n",
    "encoder = OneHotEncoder()\n",
    "labels = encoder.fit_transform(labels)"
   ]
  },
  {
   "cell_type": "code",
   "execution_count": 12,
   "metadata": {
    "scrolled": true
   },
   "outputs": [
    {
     "name": "stderr",
     "output_type": "stream",
     "text": [
      "100%|██████████| 10222/10222 [00:34<00:00, 292.88it/s]\n"
     ]
    }
   ],
   "source": [
    "list_of_imgs = np.array([read_img(img_id, \"train\", (im_size, im_size)) for img_id in tqdm(df.index.values)])"
   ]
  },
  {
   "cell_type": "code",
   "execution_count": 13,
   "metadata": {},
   "outputs": [
    {
     "name": "stdout",
     "output_type": "stream",
     "text": [
      "(8177, 120)\n"
     ]
    }
   ],
   "source": [
    "X_train, X_valid, Y_train, Y_valid = train_test_split(list_of_imgs, labels, test_size=0.2)\n",
    "\n",
    "print(Y_train.shape)"
   ]
  },
  {
   "cell_type": "code",
   "execution_count": 14,
   "metadata": {},
   "outputs": [
    {
     "data": {
      "text/plain": [
       "(8177, 224, 224, 3)"
      ]
     },
     "execution_count": 14,
     "metadata": {},
     "output_type": "execute_result"
    }
   ],
   "source": [
    "X_train.shape"
   ]
  },
  {
   "cell_type": "code",
   "execution_count": 15,
   "metadata": {},
   "outputs": [
    {
     "data": {
      "text/plain": [
       "array([[115., 247., 109., ..., 173., 172., 172.],\n",
       "       [ 86.,  90.,  24., ..., 175., 173., 173.],\n",
       "       [103.,  78.,  98., ..., 173., 170., 170.],\n",
       "       ...,\n",
       "       [151., 158., 164., ...,   9.,   9.,   9.],\n",
       "       [128., 165., 169., ...,   7.,   8.,   8.],\n",
       "       [115., 133., 159., ...,   6.,   7.,   7.]], dtype=float32)"
      ]
     },
     "execution_count": 15,
     "metadata": {},
     "output_type": "execute_result"
    }
   ],
   "source": [
    "X_train[0, :, :, 0]"
   ]
  },
  {
   "cell_type": "code",
   "execution_count": null,
   "metadata": {},
   "outputs": [],
   "source": []
  },
  {
   "cell_type": "code",
   "execution_count": null,
   "metadata": {},
   "outputs": [],
   "source": []
  },
  {
   "cell_type": "code",
   "execution_count": 16,
   "metadata": {
    "_cell_guid": "1fef84b5-c156-44e0-a7f4-8524a33e34e9",
    "_uuid": "15fc4e003b845a4996985f272d9339421106ee4d",
    "scrolled": true
   },
   "outputs": [],
   "source": [
    "# i = 0\n",
    "# for f, breed in tqdm(df_train.values):\n",
    "#     img = cv2.imread(os.path.join(data_path, \"train/{}.jpg\".format(f)))\n",
    "#     label = one_hot_labels[i]\n",
    "#     x_train.append(cv2.resize(img, (im_size, im_size)))\n",
    "#     y_train.append(label)\n",
    "#     i += 1"
   ]
  },
  {
   "cell_type": "code",
   "execution_count": 17,
   "metadata": {},
   "outputs": [],
   "source": [
    "# y_train_raw = np.array(y_train, np.uint8)\n",
    "# x_train_raw = np.array(x_train, np.float32)/255.\n",
    "# x_train = None"
   ]
  },
  {
   "cell_type": "code",
   "execution_count": 18,
   "metadata": {
    "_cell_guid": "dab00075-7cb9-4434-bb8d-0f3b0d7c1cf1",
    "_uuid": "38680a645b98ea9be5301789c5aca7a8d845d1df"
   },
   "outputs": [],
   "source": [
    "# print(x_train_raw.shape)\n",
    "# print(y_train_raw.shape)\n",
    "# # print(x_test.shape)"
   ]
  },
  {
   "cell_type": "code",
   "execution_count": 19,
   "metadata": {
    "_cell_guid": "b6d60b29-b534-4e34-aa4a-3ba5b04dceb0",
    "_uuid": "4b80e1ea02d456bd5b781b7d75683b50abbd3d91"
   },
   "outputs": [],
   "source": [
    "# num_class = y_train_raw.shape[1]"
   ]
  },
  {
   "cell_type": "code",
   "execution_count": 20,
   "metadata": {
    "_cell_guid": "2940db0f-cede-4d8c-b914-531a1c676b65",
    "_uuid": "0d232adb41e7d9feffb53bf3720b75ef2d9eb48d"
   },
   "outputs": [],
   "source": [
    "# # X_train, X_valid, Y_train, Y_valid = train_test_split(x_train_raw, y_train_raw, test_size=0.3, random_state=1)\n",
    "# train_propotion = 0.8\n",
    "# rnd = np.random.random(x_train_raw.shape[0])\n",
    "# train_idx = rnd < train_propotion\n",
    "# valid_idx = rnd >= train_propotion\n"
   ]
  },
  {
   "cell_type": "code",
   "execution_count": 21,
   "metadata": {
    "_cell_guid": "28460a83-5326-4e04-a2f3-5b84dc2ae7d6",
    "_uuid": "7f62bcb87ca895eeae4c5968f6e2d482960cce10"
   },
   "outputs": [],
   "source": [
    "# x_train_raw.size"
   ]
  },
  {
   "cell_type": "code",
   "execution_count": 22,
   "metadata": {
    "_cell_guid": "3fed50e2-40dd-4bdb-8ac8-a5a0588aebbf",
    "_uuid": "689ac74987e77c7cbc41a05058299ab442803588"
   },
   "outputs": [],
   "source": [
    "# X_train, Y_train, X_valid, Y_valid = (x_train_raw[train_idx], y_train_raw[train_idx], \n",
    "#                                       x_train_raw[valid_idx], y_train_raw[valid_idx])\n",
    "# x_train_raw = None\n",
    "# y_train_raw = None"
   ]
  },
  {
   "cell_type": "code",
   "execution_count": null,
   "metadata": {},
   "outputs": [],
   "source": []
  },
  {
   "cell_type": "code",
   "execution_count": null,
   "metadata": {},
   "outputs": [],
   "source": []
  },
  {
   "cell_type": "code",
   "execution_count": null,
   "metadata": {},
   "outputs": [],
   "source": []
  },
  {
   "cell_type": "code",
   "execution_count": 28,
   "metadata": {},
   "outputs": [
    {
     "data": {
      "text/plain": [
       "(2045, 1, 1, 2048)"
      ]
     },
     "execution_count": 28,
     "metadata": {},
     "output_type": "execute_result"
    }
   ],
   "source": [
    "model = ResNet50(include_top=False, weights='imagenet')\n",
    "bottleneck_features_train = model.predict(X_train)\n",
    "# np.save(\"temp_train.npy\", bottleneck_features_train)\n",
    "\n",
    "bottleneck_features_val = model.predict(X_valid)\n",
    "# np.save(\"temp_val.npy\", bottleneck_features_val)  \n",
    "bottleneck_features_val.shape"
   ]
  },
  {
   "cell_type": "code",
   "execution_count": 25,
   "metadata": {},
   "outputs": [],
   "source": [
    "# btl_shape = bottleneck_features_train.shape\n",
    "# bottleneck_features_train = bottleneck_features_train.reshape(btl_shape[0], 1, 1, btl_shape[-1])\n",
    "\n",
    "# btl_shape = bottleneck_features_val.shape\n",
    "# bottleneck_features_val = bottleneck_features_val.reshape(btl_shape[0], 1, 1, btl_shape[-1])\n",
    "\n",
    "# # (2045, 1, 1, 2048)\n"
   ]
  },
  {
   "cell_type": "code",
   "execution_count": 32,
   "metadata": {
    "scrolled": false
   },
   "outputs": [
    {
     "name": "stdout",
     "output_type": "stream",
     "text": [
      "Train on 8177 samples, validate on 2045 samples\n",
      "Epoch 1/25\n",
      "8177/8177 [==============================] - 4s 466us/step - loss: 3.4878 - acc: 0.1937 - val_loss: 2.2074 - val_acc: 0.4259\n",
      "Epoch 2/25\n",
      "8177/8177 [==============================] - 2s 232us/step - loss: 2.2724 - acc: 0.3862 - val_loss: 1.8388 - val_acc: 0.4905\n",
      "Epoch 3/25\n",
      "8177/8177 [==============================] - 2s 240us/step - loss: 1.9129 - acc: 0.4601 - val_loss: 1.7383 - val_acc: 0.5012\n",
      "Epoch 4/25\n",
      "8177/8177 [==============================] - 2s 238us/step - loss: 1.7160 - acc: 0.5131 - val_loss: 1.6773 - val_acc: 0.5296\n",
      "Epoch 5/25\n",
      "8177/8177 [==============================] - 2s 241us/step - loss: 1.5643 - acc: 0.5386 - val_loss: 1.6434 - val_acc: 0.5408\n",
      "Epoch 6/25\n",
      "8177/8177 [==============================] - 2s 238us/step - loss: 1.4209 - acc: 0.5772 - val_loss: 1.6696 - val_acc: 0.5218\n",
      "Epoch 7/25\n",
      "8177/8177 [==============================] - 2s 237us/step - loss: 1.3208 - acc: 0.6045 - val_loss: 1.6574 - val_acc: 0.5335\n",
      "Epoch 8/25\n",
      "8177/8177 [==============================] - 2s 240us/step - loss: 1.2317 - acc: 0.6257 - val_loss: 1.6145 - val_acc: 0.5516\n",
      "Epoch 9/25\n",
      "8177/8177 [==============================] - 2s 238us/step - loss: 1.1296 - acc: 0.6499 - val_loss: 1.6725 - val_acc: 0.5447\n",
      "Epoch 10/25\n",
      "8177/8177 [==============================] - 2s 240us/step - loss: 1.0539 - acc: 0.6676 - val_loss: 1.7157 - val_acc: 0.5589\n",
      "Epoch 11/25\n",
      "8177/8177 [==============================] - 2s 241us/step - loss: 0.9984 - acc: 0.6862 - val_loss: 1.6923 - val_acc: 0.5452\n",
      "Epoch 12/25\n",
      "8177/8177 [==============================] - 2s 237us/step - loss: 0.9372 - acc: 0.7092 - val_loss: 1.7308 - val_acc: 0.5487\n",
      "Epoch 13/25\n",
      "8177/8177 [==============================] - 2s 239us/step - loss: 0.8928 - acc: 0.7197 - val_loss: 1.6944 - val_acc: 0.5545\n",
      "Epoch 14/25\n",
      "8177/8177 [==============================] - 2s 238us/step - loss: 0.7785 - acc: 0.7461 - val_loss: 1.7719 - val_acc: 0.5531\n",
      "Epoch 15/25\n",
      "8177/8177 [==============================] - 2s 237us/step - loss: 0.7426 - acc: 0.7535 - val_loss: 1.9177 - val_acc: 0.5447\n",
      "Epoch 16/25\n",
      "8177/8177 [==============================] - 2s 239us/step - loss: 0.7455 - acc: 0.7597 - val_loss: 1.8736 - val_acc: 0.5511\n",
      "Epoch 17/25\n",
      "8177/8177 [==============================] - 2s 236us/step - loss: 0.6802 - acc: 0.7801 - val_loss: 1.8826 - val_acc: 0.5433\n",
      "Epoch 18/25\n",
      "8177/8177 [==============================] - 2s 239us/step - loss: 0.6720 - acc: 0.7824 - val_loss: 1.8768 - val_acc: 0.5628\n",
      "Epoch 19/25\n",
      "8177/8177 [==============================] - 2s 239us/step - loss: 0.6440 - acc: 0.7921 - val_loss: 1.9073 - val_acc: 0.5335\n",
      "Epoch 20/25\n",
      "8177/8177 [==============================] - 2s 236us/step - loss: 0.6196 - acc: 0.7963 - val_loss: 1.9123 - val_acc: 0.5472\n",
      "Epoch 21/25\n",
      "8177/8177 [==============================] - 2s 242us/step - loss: 0.5842 - acc: 0.8064 - val_loss: 2.0270 - val_acc: 0.5531\n",
      "Epoch 22/25\n",
      "8177/8177 [==============================] - 2s 238us/step - loss: 0.5671 - acc: 0.8146 - val_loss: 2.1147 - val_acc: 0.5438\n",
      "Epoch 23/25\n",
      "8177/8177 [==============================] - 2s 239us/step - loss: 0.5625 - acc: 0.8210 - val_loss: 2.0038 - val_acc: 0.5579\n",
      "Epoch 24/25\n",
      "8177/8177 [==============================] - 2s 237us/step - loss: 0.5149 - acc: 0.8290 - val_loss: 2.0740 - val_acc: 0.5589\n",
      "Epoch 25/25\n",
      "8177/8177 [==============================] - 2s 242us/step - loss: 0.5284 - acc: 0.8289 - val_loss: 2.1491 - val_acc: 0.5540\n"
     ]
    }
   ],
   "source": [
    "model = Sequential()\n",
    "model.add(Flatten(input_shape=bottleneck_features_train.shape[1:]))\n",
    "model.add(Dense(1024, activation=\"relu\"))\n",
    "# model.add(Dense(1024, activation=\"relu\"))\n",
    "model.add(Dropout(0.5))\n",
    "model.add(Dense(120, activation='softmax'))\n",
    "\n",
    "model.compile(optimizer=\"adam\", loss=\"categorical_crossentropy\",\n",
    "             metrics=[\"accuracy\"])\n",
    "history = model.fit(bottleneck_features_train, Y_train, epochs=25, batch_size=24,\n",
    "                   validation_data=(bottleneck_features_val, Y_valid))"
   ]
  },
  {
   "cell_type": "code",
   "execution_count": 30,
   "metadata": {},
   "outputs": [
    {
     "data": {
      "image/png": "[encoded data removed]",
      "text/plain": [
       "<Figure size 432x288 with 2 Axes>"
      ]
     },
     "metadata": {},
     "output_type": "display_data"
    }
   ],
   "source": [
    "plt.figure(1)  \n",
    "   \n",
    "# summarize history for accuracy  \n",
    "   \n",
    "plt.subplot(211)  \n",
    "plt.plot(history.history['acc'])  \n",
    "plt.plot(history.history['val_acc'])  \n",
    "plt.title('model accuracy')  \n",
    "plt.ylabel('accuracy')  \n",
    "plt.xlabel('epoch')  \n",
    "plt.legend(['train', 'test'], loc='upper left')  \n",
    "\n",
    "# summarize history for loss  \n",
    "\n",
    "plt.subplot(212)  \n",
    "plt.plot(history.history['loss'])  \n",
    "plt.plot(history.history['val_loss'])  \n",
    "plt.title('model loss')  \n",
    "plt.ylabel('loss')  \n",
    "plt.xlabel('epoch')  \n",
    "plt.legend(['train', 'test'], loc='upper left')  \n",
    "plt.show()  "
   ]
  },
  {
   "cell_type": "code",
   "execution_count": null,
   "metadata": {},
   "outputs": [],
   "source": []
  },
  {
   "cell_type": "code",
   "execution_count": null,
   "metadata": {},
   "outputs": [],
   "source": []
  },
  {
   "cell_type": "code",
   "execution_count": null,
   "metadata": {},
   "outputs": [],
   "source": []
  },
  {
   "cell_type": "code",
   "execution_count": null,
   "metadata": {},
   "outputs": [],
   "source": []
  },
  {
   "cell_type": "code",
   "execution_count": null,
   "metadata": {
    "scrolled": true
   },
   "outputs": [],
   "source": [
    "base_model = ResNet50(weights='imagenet', include_top=False, input_shape=(im_size, im_size, 3), pooling=\"avg\")\n",
    "train_model_op = base_model.predict(X_train, batch_size=32, verbose=1)\n",
    "valid_model_op = base_model.predict(X_valid, batch_size=32, verbose=1)\n",
    "\n",
    "logreg = LogisticRegression(multi_class='multinomial', solver='lbfgs')\n",
    "logreg.fit(train_model_op, (Y_train * range(num_class)).sum(axis=1))\n",
    "valid_probs = logreg.predict_proba(valid_model_op)\n",
    "valid_preds = logreg.predict(valid_model_op)\n",
    "\n",
    "print('Validation VGG LogLoss {}'.format(log_loss(Y_valid, valid_probs)))\n",
    "print('Validation VGG Accuracy {}'.format(accuracy_score((Y_valid * range(num_class)).sum(axis=1), valid_preds)))"
   ]
  },
  {
   "cell_type": "code",
   "execution_count": null,
   "metadata": {},
   "outputs": [],
   "source": [
    "valid_preds"
   ]
  },
  {
   "cell_type": "code",
   "execution_count": null,
   "metadata": {},
   "outputs": [],
   "source": [
    "Y_valid"
   ]
  },
  {
   "cell_type": "code",
   "execution_count": null,
   "metadata": {},
   "outputs": [],
   "source": [
    "# Resnet50\n",
    "base_model = ResNet50(weights=\"imagenet\", include_top=False, input_shape=(im_size, im_size, 3))\n",
    "x = base_model.output\n",
    "x = Flatten()(x)\n",
    "x = Dense(2048, activation=\"relu\")(x)\n",
    "x = Dense(1024, activation=\"relu\")(x)\n",
    "x = Dropout(0.5)(x)\n",
    "predictions = Dense(num_class, activation=\"softmax\")(x)\n",
    "\n",
    "model = Model(inputs=base_model.input, outputs=predictions)\n",
    "for layer in base_model.layers:\n",
    "    layer.trainable = False\n",
    "\n",
    "model.compile(loss=\"categorical_crossentropy\", optimizer=\"adam\", metrics=[\"accuracy\"])\n",
    "callbacks_list = [keras.callbacks.EarlyStopping(monitor=\"val_acc\", patience=3, \n",
    "                                               verbose=1)]\n",
    "# model.summary()"
   ]
  },
  {
   "cell_type": "code",
   "execution_count": null,
   "metadata": {},
   "outputs": [],
   "source": [
    "# Resnet50\n",
    "model.fit(X_train, Y_train, epochs=25, \n",
    "          validation_data=(X_valid, Y_valid), verbose=1)"
   ]
  },
  {
   "cell_type": "code",
   "execution_count": null,
   "metadata": {
    "_cell_guid": "4369d2e9-748b-4283-b080-0a23dd504cb1",
    "_uuid": "5084708b2baafa10a36bf1a1f15d48602ecd04c4"
   },
   "outputs": [],
   "source": [
    "# VGG\n",
    "base_model = VGG16(weights=\"imagenet\", include_top=False, input_shape=(im_size, im_size, 3))\n",
    "x = base_model.output\n",
    "x = Flatten()(x)\n",
    "x = Dense(2048, activation=\"relu\")(x)\n",
    "x = Dense(1024, activation=\"relu\")(x)\n",
    "x = Dropout(0.5)(x)\n",
    "predictions = Dense(num_class, activation=\"softmax\")(x)\n",
    "\n",
    "model = Model(inputs=base_model.input, outputs=predictions)\n",
    "for layer in base_model.layers:\n",
    "    layer.trainable = False\n",
    "\n",
    "model.compile(loss=\"categorical_crossentropy\", optimizer=\"adam\", metrics=[\"accuracy\"])\n",
    "callbacks_list = [keras.callbacks.EarlyStopping(monitor=\"val_acc\", patience=3, \n",
    "                                               verbose=1)]\n",
    "model.summary()"
   ]
  },
  {
   "cell_type": "code",
   "execution_count": null,
   "metadata": {
    "_cell_guid": "a63fa209-4a8c-424f-b0b1-ddebad7ba22d",
    "_uuid": "78e7de41a94e15d1dcb5f6559b5c4b171e319098"
   },
   "outputs": [],
   "source": [
    "# VGG\n",
    "model.fit(X_train, Y_train, epochs=25, \n",
    "          validation_data=(X_valid, Y_valid), verbose=1)"
   ]
  }
 ],
 "metadata": {
  "kernelspec": {
   "display_name": "Python 3",
   "language": "python",
   "name": "python3"
  },
  "language_info": {
   "codemirror_mode": {
    "name": "ipython",
    "version": 3
   },
   "file_extension": ".py",
   "mimetype": "text/x-python",
   "name": "python",
   "nbconvert_exporter": "python",
   "pygments_lexer": "ipython3",
   "version": "3.6.5"
  }
 },
 "nbformat": 4,
 "nbformat_minor": 1
}
