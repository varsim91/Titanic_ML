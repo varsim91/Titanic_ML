{
 "cells": [
  {
   "cell_type": "code",
   "execution_count": 1,
   "metadata": {
    "_cell_guid": "b1076dfc-b9ad-4769-8c92-a6c4dae69d19",
    "_uuid": "8f2839f25d086af736a60e9eeb907d3b93b6e0e5"
   },
   "outputs": [
    {
     "name": "stderr",
     "output_type": "stream",
     "text": [
      "/home/paperspace/anaconda3/envs/fastai/lib/python3.6/site-packages/h5py/__init__.py:36: FutureWarning: Conversion of the second argument of issubdtype from `float` to `np.floating` is deprecated. In future, it will be treated as `np.float64 == np.dtype(float).type`.\n",
      "  from ._conv import register_converters as _register_converters\n",
      "Using TensorFlow backend.\n"
     ]
    }
   ],
   "source": [
    "import os\n",
    "import numpy as np\n",
    "import pandas as pd\n",
    "import keras\n",
    "from keras.applications.vgg16 import VGG16\n",
    "from keras.applications.resnet50 import ResNet50\n",
    "from keras.applications.resnet50 import preprocess_input\n",
    "\n",
    "import matplotlib.pyplot as plt\n",
    "\n",
    "from keras.models import Model\n",
    "from keras.layers import Dense, Dropout, Flatten\n",
    "from tqdm import tqdm\n",
    "from sklearn import preprocessing\n",
    "from sklearn.model_selection import train_test_split\n",
    "import cv2\n",
    "from sklearn.linear_model import LogisticRegression\n",
    "from sklearn.metrics import log_loss, accuracy_score\n",
    "from sklearn.preprocessing import OneHotEncoder\n",
    "\n",
    "from keras.models import Sequential  \n",
    "from keras.layers import Dropout, Flatten, Dense  \n",
    "from keras.preprocessing import image as image_prepocessor\n"
   ]
  },
  {
   "cell_type": "code",
   "execution_count": 2,
   "metadata": {
    "_cell_guid": "8c6d7349-c956-43b0-83ea-77baae9a60fe",
    "_uuid": "32d64e15419f8994a096a0e971af795d4cc4db2a"
   },
   "outputs": [],
   "source": [
    "data_path = \"/home/paperspace/data/dogBreed/\"\n",
    "# data_path = r\"D:\\Projects\\Datas\\DogBreed\"\n",
    "im_size = 224"
   ]
  },
  {
   "cell_type": "code",
   "execution_count": 3,
   "metadata": {},
   "outputs": [],
   "source": [
    "def read_img(img_id, training, size):\n",
    "    if training == 'train':\n",
    "        file_path = _training_image_loc\n",
    "    else:\n",
    "        file_path = _testing_image_loc\n",
    "    img = image_prepocessor.load_img(os.path.join(file_path, '%s.jpg' % img_id), target_size=size)\n",
    "    img = image_prepocessor.img_to_array(img)\n",
    "#     img = preprocess_input(img)\n",
    "    return img"
   ]
  },
  {
   "cell_type": "code",
   "execution_count": 4,
   "metadata": {},
   "outputs": [],
   "source": [
    "_training_image_loc = os.path.join(data_path, \"train\")\n",
    "_training_label_loc = os.path.join(data_path, \"labels.csv\")\n",
    "_testing_image_loc = os.path.join(data_path, \"test\")\n",
    "_sample_sub_loc = os.path.join(data_path, \"sample_submission.csv\")"
   ]
  },
  {
   "cell_type": "code",
   "execution_count": 5,
   "metadata": {},
   "outputs": [],
   "source": [
    "df = pd.read_csv(_training_label_loc, index_col=0)\n",
    "dog_breeds, labels = np.unique(df.values, return_inverse=True)\n",
    "no_of_breeds = len(dog_breeds)\n",
    "labels = labels.reshape(-1, 1)\n",
    "encoder = OneHotEncoder()\n",
    "labels = encoder.fit_transform(labels)"
   ]
  },
  {
   "cell_type": "code",
   "execution_count": 6,
   "metadata": {
    "scrolled": false
   },
   "outputs": [
    {
     "name": "stderr",
     "output_type": "stream",
     "text": [
      "100%|██████████| 10222/10222 [00:29<00:00, 342.12it/s]\n"
     ]
    }
   ],
   "source": [
    "list_of_imgs = np.array([read_img(img_id, \"train\", (im_size, im_size)) for img_id in tqdm(df.index.values)])"
   ]
  },
  {
   "cell_type": "code",
   "execution_count": 7,
   "metadata": {},
   "outputs": [
    {
     "name": "stdout",
     "output_type": "stream",
     "text": [
      "(8177, 120)\n"
     ]
    }
   ],
   "source": [
    "X_train, X_valid, Y_train, Y_valid = train_test_split(list_of_imgs, labels, test_size=0.2)\n",
    "\n",
    "print(Y_train.shape)"
   ]
  },
  {
   "cell_type": "code",
   "execution_count": 8,
   "metadata": {},
   "outputs": [
    {
     "data": {
      "text/plain": [
       "(8177, 224, 224, 3)"
      ]
     },
     "execution_count": 8,
     "metadata": {},
     "output_type": "execute_result"
    }
   ],
   "source": [
    "X_train.shape"
   ]
  },
  {
   "cell_type": "code",
   "execution_count": 9,
   "metadata": {},
   "outputs": [
    {
     "data": {
      "text/plain": [
       "array([[236., 236., 236., ..., 206., 225., 234.],\n",
       "       [237., 236., 236., ..., 206., 225., 234.],\n",
       "       [239., 237., 236., ..., 206., 225., 234.],\n",
       "       ...,\n",
       "       [160.,  53., 138., ..., 101., 146., 145.],\n",
       "       [173.,  95.,  88., ..., 122., 183., 117.],\n",
       "       [161., 168., 114., ..., 144., 189., 102.]], dtype=float32)"
      ]
     },
     "execution_count": 9,
     "metadata": {},
     "output_type": "execute_result"
    }
   ],
   "source": [
    "X_train[0, :, :, 0]"
   ]
  },
  {
   "cell_type": "code",
   "execution_count": 10,
   "metadata": {},
   "outputs": [
    {
     "data": {
      "text/plain": [
       "(2045, 1, 1, 2048)"
      ]
     },
     "execution_count": 10,
     "metadata": {},
     "output_type": "execute_result"
    }
   ],
   "source": [
    "model = ResNet50(include_top=False, weights='imagenet')\n",
    "bottleneck_features_train = model.predict(X_train)\n",
    "# np.save(\"temp_train.npy\", bottleneck_features_train)\n",
    "\n",
    "bottleneck_features_val = model.predict(X_valid)\n",
    "# np.save(\"temp_val.npy\", bottleneck_features_val)  \n",
    "bottleneck_features_val.shape"
   ]
  },
  {
   "cell_type": "code",
   "execution_count": 11,
   "metadata": {},
   "outputs": [],
   "source": [
    "# btl_shape = bottleneck_features_train.shape\n",
    "# bottleneck_features_train = bottleneck_features_train.reshape(btl_shape[0], 1, 1, btl_shape[-1])\n",
    "\n",
    "# btl_shape = bottleneck_features_val.shape\n",
    "# bottleneck_features_val = bottleneck_features_val.reshape(btl_shape[0], 1, 1, btl_shape[-1])\n",
    "\n",
    "# # (2045, 1, 1, 2048)\n"
   ]
  },
  {
   "cell_type": "code",
   "execution_count": null,
   "metadata": {
    "collapsed": true
   },
   "outputs": [
    {
     "name": "stdout",
     "output_type": "stream",
     "text": [
      "Train on 8177 samples, validate on 2045 samples\n",
      "Epoch 1/50\n",
      "8177/8177 [==============================] - 2s 246us/step - loss: 4.4438 - acc: 0.0859 - val_loss: 3.0010 - val_acc: 0.3325\n",
      "Epoch 2/50\n",
      "8177/8177 [==============================] - 1s 124us/step - loss: 3.3415 - acc: 0.1853 - val_loss: 2.3661 - val_acc: 0.4181\n",
      "Epoch 3/50\n",
      "8177/8177 [==============================] - 1s 124us/step - loss: 2.9348 - acc: 0.2535 - val_loss: 2.1045 - val_acc: 0.4699\n",
      "Epoch 4/50\n",
      "8177/8177 [==============================] - 1s 124us/step - loss: 2.7361 - acc: 0.2802 - val_loss: 1.9195 - val_acc: 0.4817\n",
      "Epoch 5/50\n",
      "8177/8177 [==============================] - 1s 122us/step - loss: 2.6010 - acc: 0.3087 - val_loss: 1.8277 - val_acc: 0.4958\n",
      "Epoch 6/50\n",
      "8177/8177 [==============================] - 1s 123us/step - loss: 2.4882 - acc: 0.3307 - val_loss: 1.8104 - val_acc: 0.5037\n",
      "Epoch 7/50\n",
      "8177/8177 [==============================] - 1s 122us/step - loss: 2.3907 - acc: 0.3559 - val_loss: 1.7134 - val_acc: 0.5340\n",
      "Epoch 8/50\n",
      "8177/8177 [==============================] - 1s 122us/step - loss: 2.3078 - acc: 0.3748 - val_loss: 1.6702 - val_acc: 0.5218\n",
      "Epoch 9/50\n",
      "8177/8177 [==============================] - 1s 124us/step - loss: 2.2837 - acc: 0.3739 - val_loss: 1.6647 - val_acc: 0.5359\n",
      "Epoch 10/50\n",
      "8177/8177 [==============================] - 1s 123us/step - loss: 2.2308 - acc: 0.3798 - val_loss: 1.6386 - val_acc: 0.5438\n",
      "Epoch 11/50\n",
      "8177/8177 [==============================] - 1s 123us/step - loss: 2.1896 - acc: 0.3845 - val_loss: 1.6253 - val_acc: 0.5227\n",
      "Epoch 12/50\n",
      "8177/8177 [==============================] - 1s 126us/step - loss: 2.1156 - acc: 0.3992 - val_loss: 1.5914 - val_acc: 0.5355\n",
      "Epoch 13/50\n",
      "8177/8177 [==============================] - 1s 124us/step - loss: 2.0985 - acc: 0.4131 - val_loss: 1.5931 - val_acc: 0.5379\n",
      "Epoch 14/50\n",
      "8177/8177 [==============================] - 1s 122us/step - loss: 2.0805 - acc: 0.4137 - val_loss: 1.5881 - val_acc: 0.5394\n",
      "Epoch 15/50\n",
      "8177/8177 [==============================] - 1s 125us/step - loss: 2.0005 - acc: 0.4372 - val_loss: 1.5590 - val_acc: 0.5516\n",
      "Epoch 16/50\n",
      "8177/8177 [==============================] - 1s 123us/step - loss: 2.0041 - acc: 0.4322 - val_loss: 1.5666 - val_acc: 0.5472\n",
      "Epoch 17/50\n",
      "8177/8177 [==============================] - 1s 123us/step - loss: 1.9528 - acc: 0.4381 - val_loss: 1.5795 - val_acc: 0.5506\n",
      "Epoch 18/50\n",
      "5700/8177 [===================>..........] - ETA: 0s - loss: 1.8922 - acc: 0.4567"
     ]
    }
   ],
   "source": [
    "model = Sequential()\n",
    "model.add(Flatten(input_shape=bottleneck_features_train.shape[1:]))\n",
    "model.add(Dense(2048, activation=\"relu\"))\n",
    "# model.add(Dense(1024, activation=\"relu\"))\n",
    "model.add(Dropout(0.8))\n",
    "model.add(Dense(120, activation='softmax'))\n",
    "\n",
    "model.compile(optimizer=\"adam\", loss=\"categorical_crossentropy\", metrics=[\"accuracy\"])\n",
    "history = model.fit(bottleneck_features_train, Y_train, epochs=50, batch_size=60,\n",
    "                   validation_data=(bottleneck_features_val, Y_valid))"
   ]
  },
  {
   "cell_type": "code",
   "execution_count": 13,
   "metadata": {
    "scrolled": true
   },
   "outputs": [
    {
     "data": {
      "image/png": "[encoded data removed]",
      "text/plain": [
       "<Figure size 432x288 with 2 Axes>"
      ]
     },
     "metadata": {},
     "output_type": "display_data"
    }
   ],
   "source": [
    "plt.figure(1)  \n",
    "   \n",
    "# summarize history for accuracy  \n",
    "   \n",
    "plt.subplot(211)  \n",
    "plt.plot(history.history['acc'])  \n",
    "plt.plot(history.history['val_acc'])  \n",
    "plt.title('model accuracy')  \n",
    "plt.ylabel('accuracy')  \n",
    "plt.xlabel('epoch')  \n",
    "plt.legend(['train', 'test'], loc='upper left')  \n",
    "\n",
    "# summarize history for loss  \n",
    "\n",
    "plt.subplot(212)  \n",
    "plt.plot(history.history['loss'])  \n",
    "plt.plot(history.history['val_loss'])  \n",
    "plt.title('model loss')  \n",
    "plt.ylabel('loss')  \n",
    "plt.xlabel('epoch')  \n",
    "plt.legend(['train', 'test'], loc='upper left')  \n",
    "plt.show()  "
   ]
  },
  {
   "cell_type": "code",
   "execution_count": null,
   "metadata": {},
   "outputs": [],
   "source": []
  },
  {
   "cell_type": "code",
   "execution_count": null,
   "metadata": {},
   "outputs": [],
   "source": []
  },
  {
   "cell_type": "code",
   "execution_count": 10,
   "metadata": {},
   "outputs": [],
   "source": [
    "from keras.applications.inception_v3 import InceptionV3\n",
    "model = InceptionV3(include_top=False, weights='imagenet')"
   ]
  },
  {
   "cell_type": "code",
   "execution_count": 11,
   "metadata": {},
   "outputs": [
    {
     "data": {
      "text/plain": [
       "(2045, 5, 5, 2048)"
      ]
     },
     "execution_count": 11,
     "metadata": {},
     "output_type": "execute_result"
    }
   ],
   "source": [
    "# model = ResNet50(include_top=False, weights='imagenet')\n",
    "bottleneck_features_train = model.predict(X_train)\n",
    "# np.save(\"temp_train.npy\", bottleneck_features_train)\n",
    "\n",
    "bottleneck_features_val = model.predict(X_valid)\n",
    "# np.save(\"temp_val.npy\", bottleneck_features_val)  \n",
    "bottleneck_features_val.shape"
   ]
  },
  {
   "cell_type": "code",
   "execution_count": null,
   "metadata": {},
   "outputs": [
    {
     "name": "stdout",
     "output_type": "stream",
     "text": [
      "Train on 8177 samples, validate on 2045 samples\n",
      "Epoch 1/50\n",
      "8177/8177 [==============================] - 16s 2ms/step - loss: 15.9633 - acc: 0.0095 - val_loss: 15.9841 - val_acc: 0.0083\n",
      "Epoch 2/50\n",
      "8177/8177 [==============================] - 13s 2ms/step - loss: 15.9604 - acc: 0.0098 - val_loss: 15.9841 - val_acc: 0.0083\n",
      "Epoch 3/50\n",
      " 480/8177 [>.............................] - ETA: 12s - loss: 15.8830 - acc: 0.0146"
     ]
    }
   ],
   "source": [
    "model = Sequential()\n",
    "model.add(Flatten(input_shape=bottleneck_features_train.shape[1:]))\n",
    "model.add(Dense(2048, activation=\"relu\"))\n",
    "# model.add(Dense(1024, activation=\"relu\"))\n",
    "model.add(Dropout(0.8))\n",
    "model.add(Dense(120, activation='softmax'))\n",
    "\n",
    "model.compile(optimizer=\"adam\", loss=\"categorical_crossentropy\", metrics=[\"accuracy\"])\n",
    "history = model.fit(bottleneck_features_train, Y_train, epochs=50, batch_size=60,\n",
    "                   validation_data=(bottleneck_features_val, Y_valid))"
   ]
  },
  {
   "cell_type": "code",
   "execution_count": null,
   "metadata": {},
   "outputs": [],
   "source": []
  }
 ],
 "metadata": {
  "kernelspec": {
   "display_name": "Python 3",
   "language": "python",
   "name": "python3"
  },
  "language_info": {
   "codemirror_mode": {
    "name": "ipython",
    "version": 3
   },
   "file_extension": ".py",
   "mimetype": "text/x-python",
   "name": "python",
   "nbconvert_exporter": "python",
   "pygments_lexer": "ipython3",
   "version": "3.6.5"
  }
 },
 "nbformat": 4,
 "nbformat_minor": 1
}
