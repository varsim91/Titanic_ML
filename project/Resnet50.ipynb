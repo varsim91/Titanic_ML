{
 "cells": [
  {
   "cell_type": "code",
   "execution_count": 1,
   "metadata": {
    "scrolled": true
   },
   "outputs": [
    {
     "name": "stderr",
     "output_type": "stream",
     "text": [
      "/home/paperspace/anaconda3/envs/fastai/lib/python3.6/site-packages/h5py/__init__.py:36: FutureWarning: Conversion of the second argument of issubdtype from `float` to `np.floating` is deprecated. In future, it will be treated as `np.float64 == np.dtype(float).type`.\n",
      "  from ._conv import register_converters as _register_converters\n",
      "Using TensorFlow backend.\n"
     ]
    }
   ],
   "source": [
    "import os\n",
    "import shutil\n",
    "import math\n",
    "import numpy as np\n",
    "import pandas as pd\n",
    "import matplotlib.pyplot as plt\n",
    "%matplotlib inline\n",
    "\n",
    "from tqdm import tqdm\n",
    "from sklearn.preprocessing import OneHotEncoder\n",
    "from sklearn.model_selection import train_test_split\n",
    "\n",
    "from keras.preprocessing import image as image_prepocessor\n",
    "from keras.preprocessing.image import ImageDataGenerator\n",
    "\n",
    "from keras.models import Sequential  \n",
    "from keras.models import Model\n",
    "from keras.layers import Dropout, Flatten, Dense, GlobalAveragePooling2D \n",
    "from keras.regularizers import l2"
   ]
  },
  {
   "cell_type": "code",
   "execution_count": 2,
   "metadata": {},
   "outputs": [],
   "source": [
    "data_path = \"/home/paperspace/data/dogBreed/\"\n",
    "# data_path = r\"E:\\DogBreed\"\n",
    "im_size = 225\n",
    "batch_size = 64\n",
    "epochs = 50\n",
    "_seed = 1"
   ]
  },
  {
   "cell_type": "code",
   "execution_count": 3,
   "metadata": {},
   "outputs": [],
   "source": [
    "from keras.applications.resnet50 import ResNet50\n",
    "from keras.applications.resnet50 import preprocess_input\n",
    "base_model = ResNet50(include_top=False, weights='imagenet')"
   ]
  },
  {
   "cell_type": "code",
   "execution_count": 4,
   "metadata": {},
   "outputs": [],
   "source": [
    "_training_image_loc = os.path.join(data_path, \"train\")\n",
    "_training_label_loc = os.path.join(data_path, \"labels.csv\")\n",
    "_testing_image_loc = os.path.join(data_path, \"test\")\n",
    "_sample_sub_loc = os.path.join(data_path, \"sample_submission.csv\")"
   ]
  },
  {
   "cell_type": "code",
   "execution_count": 5,
   "metadata": {},
   "outputs": [],
   "source": [
    "temp_dir = \"temp\"\n",
    "if not os.path.exists(temp_dir):\n",
    "    os.mkdir(temp_dir)\n",
    "    \n",
    "bottle_ft_train_path = os.path.join(temp_dir,'btn_ft_train_{}_{}.npy'.format(im_size, batch_size))\n",
    "bottle_ft_val_path = os.path.join(temp_dir,'btn_ft_val_{}_{}.npy'.format(im_size, batch_size))\n",
    "\n",
    "base_modal_weight_loc = os.path.join(temp_dir,'base_modal_weight_loc.h5')"
   ]
  },
  {
   "cell_type": "code",
   "execution_count": 6,
   "metadata": {},
   "outputs": [],
   "source": [
    "def split_images_into_breed(dataframe, new_dir_name):\n",
    "    sub_path = os.path.join(_training_image_loc, new_dir_name)\n",
    "    \n",
    "    if os.path.exists(sub_path):\n",
    "        print(\"Folder {} exists.\".format(sub_path))\n",
    "        return sub_path\n",
    "    \n",
    "    os.mkdir(sub_path)\n",
    "        \n",
    "    for name, group in tqdm(dataframe.groupby(\"breed\")):\n",
    "        breed_dir = os.path.join(sub_path, name)\n",
    "        if not os.path.exists(breed_dir):\n",
    "            os.mkdir(breed_dir)\n",
    "        for file_name in group[\"id\"]:\n",
    "            file_path = os.path.join(_training_image_loc, file_name + \".jpg\")\n",
    "            if os.path.exists(file_path):\n",
    "                shutil.copy(file_path, breed_dir)\n",
    "    return sub_path"
   ]
  },
  {
   "cell_type": "code",
   "execution_count": 7,
   "metadata": {
    "scrolled": true
   },
   "outputs": [
    {
     "name": "stdout",
     "output_type": "stream",
     "text": [
      "Folder /home/paperspace/data/dogBreed/train/train exists.\n",
      "Folder /home/paperspace/data/dogBreed/train/valid exists.\n"
     ]
    }
   ],
   "source": [
    "df = pd.read_csv(_training_label_loc)\n",
    "\n",
    "np.random.seed(seed=_seed)\n",
    "rnd = np.random.random(df.shape[0])\n",
    "train_idx = rnd < 0.8\n",
    "valid_idx = rnd >= 0.8\n",
    "\n",
    "traing_df = df[train_idx]\n",
    "validation_df = df[valid_idx]\n",
    "train_data_loc = split_images_into_breed(traing_df, \"train\")\n",
    "val_data_loc = split_images_into_breed(validation_df, \"valid\")"
   ]
  },
  {
   "cell_type": "code",
   "execution_count": 8,
   "metadata": {},
   "outputs": [],
   "source": [
    "# def img_preprocess(img):\n",
    "#     print(type(img))\n",
    "#     img = image_prepocessor.img_to_array(img)\n",
    "#     print(type(img))\n",
    "#     img = preprocess_input(img)\n",
    "#     print(img.shape)\n",
    "#     return img"
   ]
  },
  {
   "cell_type": "code",
   "execution_count": 9,
   "metadata": {},
   "outputs": [
    {
     "name": "stdout",
     "output_type": "stream",
     "text": [
      "Skipping saving of train data.\n"
     ]
    }
   ],
   "source": [
    "data_generator = ImageDataGenerator(preprocessing_function=preprocess_input, rescale=None)\n",
    "if not os.path.exists(bottle_ft_train_path):\n",
    "    train_generator = data_generator.flow_from_directory(train_data_loc,\n",
    "                                                         target_size=(im_size, im_size), \n",
    "                                                         batch_size=batch_size,\n",
    "                                                         class_mode=None,\n",
    "                                                         shuffle=False)\n",
    "    num_of_training_samples = len(train_generator.filenames)\n",
    "    num_classes = len(train_generator.class_indices)\n",
    "    steps = int(math.ceil(num_of_training_samples / batch_size))  \n",
    "\n",
    "    bottleneck_features_train = base_model.predict_generator(train_generator, steps)\n",
    "    np.save(bottle_ft_train_path, bottleneck_features_train)\n",
    "else:\n",
    "    print(\"Skipping saving of train data.\")"
   ]
  },
  {
   "cell_type": "code",
   "execution_count": 10,
   "metadata": {},
   "outputs": [
    {
     "name": "stdout",
     "output_type": "stream",
     "text": [
      "Skipping saving of validation data.\n"
     ]
    }
   ],
   "source": [
    "if not os.path.exists(bottle_ft_val_path):\n",
    "    val_generator = data_generator.flow_from_directory(val_data_loc,\n",
    "                                                       target_size=(im_size, im_size), \n",
    "                                                       batch_size=batch_size,\n",
    "                                                       class_mode=None,\n",
    "                                                       shuffle=False)\n",
    "    num_of_val_samples = len(val_generator.filenames)\n",
    "    steps = int(math.ceil(num_of_val_samples / batch_size))  \n",
    "\n",
    "    bottleneck_features_val = base_model.predict_generator(val_generator)\n",
    "    np.save(bottle_ft_val_path, bottleneck_features_val)  \n",
    "else:\n",
    "    print(\"Skipping saving of validation data.\")"
   ]
  },
  {
   "cell_type": "code",
   "execution_count": 11,
   "metadata": {},
   "outputs": [
    {
     "name": "stdout",
     "output_type": "stream",
     "text": [
      "Found 8221 images belonging to 120 classes.\n"
     ]
    }
   ],
   "source": [
    "# Generator with images and Labels\n",
    "train_generator = data_generator.flow_from_directory(train_data_loc,\n",
    "                                                     target_size=(im_size, im_size), \n",
    "                                                     batch_size=batch_size,\n",
    "                                                     class_mode='categorical',\n",
    "                                                     shuffle=False)\n",
    "num_of_training_samples = len(train_generator.filenames)\n",
    "num_classes = len(train_generator.class_indices)\n",
    "\n",
    "train_data = np.load(bottle_ft_train_path)\n",
    "train_labels = train_generator.classes.reshape(-1, 1)\n",
    "encoder = OneHotEncoder()\n",
    "train_labels = encoder.fit_transform(train_labels)"
   ]
  },
  {
   "cell_type": "code",
   "execution_count": 12,
   "metadata": {},
   "outputs": [
    {
     "name": "stdout",
     "output_type": "stream",
     "text": [
      "Found 2001 images belonging to 120 classes.\n"
     ]
    }
   ],
   "source": [
    "val_generator = data_generator.flow_from_directory(val_data_loc,\n",
    "                                                   target_size=(im_size, im_size), \n",
    "                                                   batch_size=batch_size,\n",
    "                                                   class_mode=None,\n",
    "                                                   shuffle=False)\n",
    "num_of_val_samples = len(val_generator.filenames)\n",
    "validation_data = np.load(bottle_ft_val_path)  \n",
    "validation_labels = val_generator.classes.reshape(-1, 1)\n",
    "encoder = OneHotEncoder()\n",
    "validation_labels = encoder.fit_transform(validation_labels)"
   ]
  },
  {
   "cell_type": "code",
   "execution_count": 13,
   "metadata": {
    "collapsed": true
   },
   "outputs": [
    {
     "name": "stdout",
     "output_type": "stream",
     "text": [
      "Train on 8221 samples, validate on 2001 samples\n",
      "Epoch 1/50\n",
      "8221/8221 [==============================] - 2s 257us/step - loss: 3.9518 - acc: 0.1534 - val_loss: 1.8636 - val_acc: 0.6052\n",
      "Epoch 2/50\n",
      "8221/8221 [==============================] - 1s 127us/step - loss: 2.4679 - acc: 0.3624 - val_loss: 1.2234 - val_acc: 0.6987\n",
      "Epoch 3/50\n",
      "8221/8221 [==============================] - 1s 120us/step - loss: 1.9594 - acc: 0.4592 - val_loss: 1.0218 - val_acc: 0.7246\n",
      "Epoch 4/50\n",
      "8221/8221 [==============================] - 1s 122us/step - loss: 1.7926 - acc: 0.4958 - val_loss: 0.9716 - val_acc: 0.7186\n",
      "Epoch 5/50\n",
      "8221/8221 [==============================] - 1s 123us/step - loss: 1.6225 - acc: 0.5327 - val_loss: 0.8873 - val_acc: 0.7416\n",
      "Epoch 6/50\n",
      "8221/8221 [==============================] - 1s 123us/step - loss: 1.4968 - acc: 0.5718 - val_loss: 0.8633 - val_acc: 0.7356\n",
      "Epoch 7/50\n",
      "8221/8221 [==============================] - 1s 120us/step - loss: 1.3776 - acc: 0.5963 - val_loss: 0.8413 - val_acc: 0.7436\n",
      "Epoch 8/50\n",
      "8221/8221 [==============================] - 1s 117us/step - loss: 1.3450 - acc: 0.6047 - val_loss: 0.8119 - val_acc: 0.7636\n",
      "Epoch 9/50\n",
      "8221/8221 [==============================] - 1s 122us/step - loss: 1.2834 - acc: 0.6155 - val_loss: 0.8069 - val_acc: 0.7546\n",
      "Epoch 10/50\n",
      "8221/8221 [==============================] - 1s 119us/step - loss: 1.2511 - acc: 0.6289 - val_loss: 0.8028 - val_acc: 0.7566\n",
      "Epoch 11/50\n",
      "8221/8221 [==============================] - 1s 118us/step - loss: 1.2473 - acc: 0.6291 - val_loss: 0.7820 - val_acc: 0.7541\n",
      "Epoch 12/50\n",
      "8221/8221 [==============================] - 1s 119us/step - loss: 1.1665 - acc: 0.6485 - val_loss: 0.7851 - val_acc: 0.7536\n",
      "Epoch 13/50\n",
      "8221/8221 [==============================] - 1s 121us/step - loss: 1.1308 - acc: 0.6522 - val_loss: 0.7836 - val_acc: 0.7696\n",
      "Epoch 14/50\n",
      "8221/8221 [==============================] - 1s 119us/step - loss: 1.1264 - acc: 0.6570 - val_loss: 0.7910 - val_acc: 0.7536\n",
      "Epoch 15/50\n",
      "8221/8221 [==============================] - 1s 121us/step - loss: 1.0713 - acc: 0.6704 - val_loss: 0.7801 - val_acc: 0.7526\n",
      "Epoch 16/50\n",
      "8221/8221 [==============================] - 1s 121us/step - loss: 1.0855 - acc: 0.6633 - val_loss: 0.8039 - val_acc: 0.7461\n",
      "Epoch 17/50\n",
      "8221/8221 [==============================] - 1s 122us/step - loss: 1.0503 - acc: 0.6712 - val_loss: 0.8028 - val_acc: 0.7506\n",
      "Epoch 18/50\n",
      "8221/8221 [==============================] - 1s 122us/step - loss: 1.0135 - acc: 0.6885 - val_loss: 0.7988 - val_acc: 0.7596\n",
      "Epoch 19/50\n",
      "8221/8221 [==============================] - 1s 119us/step - loss: 0.9900 - acc: 0.6935 - val_loss: 0.7988 - val_acc: 0.7576\n",
      "Epoch 20/50\n",
      "8221/8221 [==============================] - 1s 122us/step - loss: 0.9922 - acc: 0.6919 - val_loss: 0.7927 - val_acc: 0.7616\n",
      "Epoch 21/50\n",
      "8221/8221 [==============================] - 1s 119us/step - loss: 0.9483 - acc: 0.7044 - val_loss: 0.8165 - val_acc: 0.7606\n",
      "Epoch 22/50\n",
      "8221/8221 [==============================] - 1s 120us/step - loss: 0.9692 - acc: 0.6963 - val_loss: 0.7924 - val_acc: 0.7626\n",
      "Epoch 23/50\n",
      "8221/8221 [==============================] - 1s 122us/step - loss: 0.9707 - acc: 0.6972 - val_loss: 0.7989 - val_acc: 0.7531\n",
      "Epoch 24/50\n",
      "8221/8221 [==============================] - 1s 123us/step - loss: 0.9667 - acc: 0.7006 - val_loss: 0.8054 - val_acc: 0.7581\n",
      "Epoch 25/50\n",
      "8221/8221 [==============================] - 1s 125us/step - loss: 0.9369 - acc: 0.7135 - val_loss: 0.8110 - val_acc: 0.7501\n",
      "Epoch 26/50\n",
      "8221/8221 [==============================] - 1s 126us/step - loss: 0.9101 - acc: 0.7131 - val_loss: 0.8083 - val_acc: 0.7566\n",
      "Epoch 27/50\n",
      "8221/8221 [==============================] - 1s 124us/step - loss: 0.9091 - acc: 0.7167 - val_loss: 0.7994 - val_acc: 0.7691\n",
      "Epoch 28/50\n",
      "8221/8221 [==============================] - 1s 126us/step - loss: 0.8915 - acc: 0.7161 - val_loss: 0.8357 - val_acc: 0.7556\n",
      "Epoch 29/50\n",
      "8221/8221 [==============================] - 1s 122us/step - loss: 0.8587 - acc: 0.7222 - val_loss: 0.8274 - val_acc: 0.7651\n",
      "Epoch 30/50\n",
      "8221/8221 [==============================] - 1s 122us/step - loss: 0.8584 - acc: 0.7320 - val_loss: 0.8340 - val_acc: 0.7626\n",
      "Epoch 31/50\n",
      "8221/8221 [==============================] - 1s 124us/step - loss: 0.8306 - acc: 0.7452 - val_loss: 0.8511 - val_acc: 0.7596\n",
      "Epoch 32/50\n",
      "8221/8221 [==============================] - 1s 121us/step - loss: 0.8219 - acc: 0.7376 - val_loss: 0.8239 - val_acc: 0.7651\n",
      "Epoch 33/50\n",
      "8221/8221 [==============================] - 1s 124us/step - loss: 0.8191 - acc: 0.7407 - val_loss: 0.8602 - val_acc: 0.7686\n",
      "Epoch 34/50\n",
      "8221/8221 [==============================] - 1s 122us/step - loss: 0.8238 - acc: 0.7393 - val_loss: 0.8709 - val_acc: 0.7586\n",
      "Epoch 35/50\n",
      "8221/8221 [==============================] - 1s 121us/step - loss: 0.7955 - acc: 0.7521 - val_loss: 0.8316 - val_acc: 0.7611\n",
      "Epoch 36/50\n",
      "8221/8221 [==============================] - 1s 126us/step - loss: 0.8007 - acc: 0.7469 - val_loss: 0.8441 - val_acc: 0.7661\n",
      "Epoch 37/50\n",
      "8221/8221 [==============================] - 1s 120us/step - loss: 0.7697 - acc: 0.7547 - val_loss: 0.8898 - val_acc: 0.7511\n",
      "Epoch 38/50\n",
      "8221/8221 [==============================] - 1s 125us/step - loss: 0.8343 - acc: 0.7405 - val_loss: 0.8859 - val_acc: 0.7616\n",
      "Epoch 39/50\n",
      "8221/8221 [==============================] - 1s 120us/step - loss: 0.7700 - acc: 0.7554 - val_loss: 0.8739 - val_acc: 0.7621\n",
      "Epoch 40/50\n",
      "8221/8221 [==============================] - 1s 125us/step - loss: 0.7747 - acc: 0.7560 - val_loss: 0.8737 - val_acc: 0.7651\n",
      "Epoch 41/50\n",
      "8221/8221 [==============================] - 1s 121us/step - loss: 0.7565 - acc: 0.7596 - val_loss: 0.9012 - val_acc: 0.7621\n",
      "Epoch 42/50\n",
      "8221/8221 [==============================] - 1s 123us/step - loss: 0.7334 - acc: 0.7679 - val_loss: 0.8903 - val_acc: 0.7561\n",
      "Epoch 43/50\n",
      "8221/8221 [==============================] - 1s 119us/step - loss: 0.7273 - acc: 0.7634 - val_loss: 0.8823 - val_acc: 0.7606\n",
      "Epoch 44/50\n",
      "8221/8221 [==============================] - 1s 122us/step - loss: 0.7360 - acc: 0.7678 - val_loss: 0.9006 - val_acc: 0.7631\n",
      "Epoch 45/50\n",
      "8221/8221 [==============================] - 1s 122us/step - loss: 0.7226 - acc: 0.7668 - val_loss: 0.9069 - val_acc: 0.7651\n",
      "Epoch 46/50\n",
      "8221/8221 [==============================] - 1s 123us/step - loss: 0.7392 - acc: 0.7661 - val_loss: 0.9075 - val_acc: 0.7621\n",
      "Epoch 47/50\n",
      "8221/8221 [==============================] - 1s 125us/step - loss: 0.7360 - acc: 0.7685 - val_loss: 0.9274 - val_acc: 0.7576\n",
      "Epoch 48/50\n",
      "8221/8221 [==============================] - 1s 123us/step - loss: 0.7158 - acc: 0.7719 - val_loss: 0.9114 - val_acc: 0.7606\n",
      "Epoch 49/50\n",
      "8221/8221 [==============================] - 1s 121us/step - loss: 0.6945 - acc: 0.7779 - val_loss: 0.9501 - val_acc: 0.7551\n",
      "Epoch 50/50\n",
      "8221/8221 [==============================] - 1s 121us/step - loss: 0.6883 - acc: 0.7829 - val_loss: 0.9144 - val_acc: 0.7581\n"
     ]
    }
   ],
   "source": [
    "top_model = Sequential()\n",
    "top_model.add(GlobalAveragePooling2D(input_shape=train_data.shape[1:]))\n",
    "top_model.add(Dense(1024, activation=\"relu\"))\n",
    "top_model.add(Dropout(0.8))\n",
    "# model.add(Dense(256, activation=\"relu\"))\n",
    "# model.add(Dropout(0.5))\n",
    "top_model.add(Dense(num_classes, activation='softmax'))\n",
    "\n",
    "top_model.compile(optimizer=\"adam\", loss=\"categorical_crossentropy\", metrics=[\"accuracy\"])\n",
    "history = top_model.fit(train_data, train_labels, epochs=epochs, batch_size=batch_size,\n",
    "                   validation_data=(validation_data, validation_labels))\n",
    "\n",
    "top_model.save_weights(base_modal_weight_loc)"
   ]
  },
  {
   "cell_type": "code",
   "execution_count": 14,
   "metadata": {},
   "outputs": [
    {
     "data": {
      "image/png": "[encoded data removed]",
      "text/plain": [
       "<Figure size 432x288 with 2 Axes>"
      ]
     },
     "metadata": {},
     "output_type": "display_data"
    }
   ],
   "source": [
    "plt.figure(1)  \n",
    "   \n",
    "# summarize history for accuracy  \n",
    "   \n",
    "plt.subplot(211)  \n",
    "plt.plot(history.history['acc'])  \n",
    "plt.plot(history.history['val_acc'])  \n",
    "plt.title('model accuracy')  \n",
    "plt.ylabel('accuracy')  \n",
    "plt.xlabel('epoch')  \n",
    "plt.legend(['train', 'test'], loc='upper left')  \n",
    "\n",
    "# summarize history for loss  \n",
    "\n",
    "plt.subplot(212)  \n",
    "plt.plot(history.history['loss'])  \n",
    "plt.plot(history.history['val_loss'])  \n",
    "plt.title('model loss')  \n",
    "plt.ylabel('loss')  \n",
    "plt.xlabel('epoch')  \n",
    "plt.legend(['train', 'test'], loc='upper left')  \n",
    "plt.show()  "
   ]
  },
  {
   "cell_type": "markdown",
   "metadata": {},
   "source": [
    "# FINE TUNING"
   ]
  },
  {
   "cell_type": "code",
   "execution_count": 15,
   "metadata": {},
   "outputs": [
    {
     "ename": "ValueError",
     "evalue": "Input 0 is incompatible with layer res2a_branch1: expected axis -1 of input shape to have value 64 but got shape (None, None, None, 256)",
     "output_type": "error",
     "traceback": [
      "\u001b[0;31m---------------------------------------------------------------------\u001b[0m",
      "\u001b[0;31mValueError\u001b[0m                          Traceback (most recent call last)",
      "\u001b[0;32m<ipython-input-15-d7c7d743d570>\u001b[0m in \u001b[0;36m<module>\u001b[0;34m()\u001b[0m\n\u001b[1;32m      9\u001b[0m \u001b[0mnew_model\u001b[0m \u001b[0;34m=\u001b[0m \u001b[0mSequential\u001b[0m\u001b[0;34m(\u001b[0m\u001b[0;34m)\u001b[0m\u001b[0;34m\u001b[0m\u001b[0m\n\u001b[1;32m     10\u001b[0m \u001b[0;32mfor\u001b[0m \u001b[0mlayer\u001b[0m \u001b[0;32min\u001b[0m \u001b[0mbase_model\u001b[0m\u001b[0;34m.\u001b[0m\u001b[0mlayers\u001b[0m\u001b[0;34m:\u001b[0m\u001b[0;34m\u001b[0m\u001b[0m\n\u001b[0;32m---> 11\u001b[0;31m     \u001b[0mnew_model\u001b[0m\u001b[0;34m.\u001b[0m\u001b[0madd\u001b[0m\u001b[0;34m(\u001b[0m\u001b[0mlayer\u001b[0m\u001b[0;34m)\u001b[0m\u001b[0;34m\u001b[0m\u001b[0m\n\u001b[0m\u001b[1;32m     12\u001b[0m \u001b[0;34m\u001b[0m\u001b[0m\n\u001b[1;32m     13\u001b[0m \u001b[0mnew_model\u001b[0m\u001b[0;34m.\u001b[0m\u001b[0madd\u001b[0m\u001b[0;34m(\u001b[0m\u001b[0mtop_model\u001b[0m\u001b[0;34m)\u001b[0m\u001b[0;34m\u001b[0m\u001b[0m\n",
      "\u001b[0;32m~/anaconda3/envs/fastai/lib/python3.6/site-packages/keras/models.py\u001b[0m in \u001b[0;36madd\u001b[0;34m(self, layer)\u001b[0m\n\u001b[1;32m    520\u001b[0m                           output_shapes=[self.outputs[0]._keras_shape])\n\u001b[1;32m    521\u001b[0m         \u001b[0;32melse\u001b[0m\u001b[0;34m:\u001b[0m\u001b[0;34m\u001b[0m\u001b[0m\n\u001b[0;32m--> 522\u001b[0;31m             \u001b[0moutput_tensor\u001b[0m \u001b[0;34m=\u001b[0m \u001b[0mlayer\u001b[0m\u001b[0;34m(\u001b[0m\u001b[0mself\u001b[0m\u001b[0;34m.\u001b[0m\u001b[0moutputs\u001b[0m\u001b[0;34m[\u001b[0m\u001b[0;36m0\u001b[0m\u001b[0;34m]\u001b[0m\u001b[0;34m)\u001b[0m\u001b[0;34m\u001b[0m\u001b[0m\n\u001b[0m\u001b[1;32m    523\u001b[0m             \u001b[0;32mif\u001b[0m \u001b[0misinstance\u001b[0m\u001b[0;34m(\u001b[0m\u001b[0moutput_tensor\u001b[0m\u001b[0;34m,\u001b[0m \u001b[0mlist\u001b[0m\u001b[0;34m)\u001b[0m\u001b[0;34m:\u001b[0m\u001b[0;34m\u001b[0m\u001b[0m\n\u001b[1;32m    524\u001b[0m                 raise TypeError('All layers in a Sequential model '\n",
      "\u001b[0;32m~/anaconda3/envs/fastai/lib/python3.6/site-packages/keras/engine/topology.py\u001b[0m in \u001b[0;36m__call__\u001b[0;34m(self, inputs, **kwargs)\u001b[0m\n\u001b[1;32m    601\u001b[0m             \u001b[0;31m# Raise exceptions in case the input is not compatible\u001b[0m\u001b[0;34m\u001b[0m\u001b[0;34m\u001b[0m\u001b[0m\n\u001b[1;32m    602\u001b[0m             \u001b[0;31m# with the input_spec set at build time.\u001b[0m\u001b[0;34m\u001b[0m\u001b[0;34m\u001b[0m\u001b[0m\n\u001b[0;32m--> 603\u001b[0;31m             \u001b[0mself\u001b[0m\u001b[0;34m.\u001b[0m\u001b[0massert_input_compatibility\u001b[0m\u001b[0;34m(\u001b[0m\u001b[0minputs\u001b[0m\u001b[0;34m)\u001b[0m\u001b[0;34m\u001b[0m\u001b[0m\n\u001b[0m\u001b[1;32m    604\u001b[0m \u001b[0;34m\u001b[0m\u001b[0m\n\u001b[1;32m    605\u001b[0m             \u001b[0;31m# Handle mask propagation.\u001b[0m\u001b[0;34m\u001b[0m\u001b[0;34m\u001b[0m\u001b[0m\n",
      "\u001b[0;32m~/anaconda3/envs/fastai/lib/python3.6/site-packages/keras/engine/topology.py\u001b[0m in \u001b[0;36massert_input_compatibility\u001b[0;34m(self, inputs)\u001b[0m\n\u001b[1;32m    511\u001b[0m                                              \u001b[0mstr\u001b[0m\u001b[0;34m(\u001b[0m\u001b[0maxis\u001b[0m\u001b[0;34m)\u001b[0m \u001b[0;34m+\u001b[0m \u001b[0;34m' of input shape to have '\u001b[0m\u001b[0;34m\u001b[0m\u001b[0m\n\u001b[1;32m    512\u001b[0m                                              \u001b[0;34m'value '\u001b[0m \u001b[0;34m+\u001b[0m \u001b[0mstr\u001b[0m\u001b[0;34m(\u001b[0m\u001b[0mvalue\u001b[0m\u001b[0;34m)\u001b[0m \u001b[0;34m+\u001b[0m\u001b[0;34m\u001b[0m\u001b[0m\n\u001b[0;32m--> 513\u001b[0;31m                                              ' but got shape ' + str(x_shape))\n\u001b[0m\u001b[1;32m    514\u001b[0m             \u001b[0;31m# Check shape.\u001b[0m\u001b[0;34m\u001b[0m\u001b[0;34m\u001b[0m\u001b[0m\n\u001b[1;32m    515\u001b[0m             \u001b[0;32mif\u001b[0m \u001b[0mspec\u001b[0m\u001b[0;34m.\u001b[0m\u001b[0mshape\u001b[0m \u001b[0;32mis\u001b[0m \u001b[0;32mnot\u001b[0m \u001b[0;32mNone\u001b[0m\u001b[0;34m:\u001b[0m\u001b[0;34m\u001b[0m\u001b[0m\n",
      "\u001b[0;31mValueError\u001b[0m: Input 0 is incompatible with layer res2a_branch1: expected axis -1 of input shape to have value 64 but got shape (None, None, None, 256)"
     ]
    }
   ],
   "source": [
    "# x = base_model.output\n",
    "# x = GlobalAveragePooling2D()(x)\n",
    "# x = Dense(1024, activation=\"relu\")(x)\n",
    "# x = Dropout(0.8)(x)\n",
    "# # model.add(Dense(256, activation=\"relu\"))\n",
    "# # model.add(Dropout(0.5))\n",
    "# predictions = Dense(num_classes, activation='softmax')(x)\n",
    "\n",
    "new_model = Sequential()\n",
    "for layer in base_model.layers:\n",
    "    new_model.add(layer)\n",
    "    \n",
    "new_model.add(top_model)\n",
    "print(len(new_model.layers))"
   ]
  },
  {
   "cell_type": "code",
   "execution_count": null,
   "metadata": {},
   "outputs": [],
   "source": [
    "for layer in base_model.layers:\n",
    "    layer.trainable = False\n",
    "\n",
    "full_model.compile(optimizer=\"adam\", loss=\"categorical_crossentropy\", metrics=[\"accuracy\"])\n"
   ]
  },
  {
   "cell_type": "code",
   "execution_count": null,
   "metadata": {},
   "outputs": [],
   "source": []
  }
 ],
 "metadata": {
  "kernelspec": {
   "display_name": "Python 3",
   "language": "python",
   "name": "python3"
  },
  "language_info": {
   "codemirror_mode": {
    "name": "ipython",
    "version": 3
   },
   "file_extension": ".py",
   "mimetype": "text/x-python",
   "name": "python",
   "nbconvert_exporter": "python",
   "pygments_lexer": "ipython3",
   "version": "3.6.5"
  }
 },
 "nbformat": 4,
 "nbformat_minor": 2
}
