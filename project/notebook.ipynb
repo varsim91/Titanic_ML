{
  "metadata": {
    "language_info": {
      "version": "3.6.4",
      "nbconvert_exporter": "python",
      "file_extension": ".py",
      "pygments_lexer": "ipython3",
      "mimetype": "text/x-python",
      "name": "python",
      "codemirror_mode": {
        "version": 3,
        "name": "ipython"
      }
    },
    "kernelspec": {
      "display_name": "Python 3",
      "language": "python",
      "name": "python3"
    }
  },
  "nbformat_minor": 1,
  "cells": [
    {
      "source": [
        "# This Python 3 environment comes with many helpful analytics libraries installed\n",
        "# It is defined by the kaggle/python docker image: https://github.com/kaggle/docker-python\n",
        "# For example, here's several helpful packages to load in \n",
        "\n",
        "import numpy as np # linear algebra\n",
        "import pandas as pd # data processing, CSV file I/O (e.g. pd.read_csv)\n",
        "import keras\n",
        "from keras.applications.vgg16 import VGG16\n",
        "from keras.models import Model\n",
        "from keras.layers import Dense, Dropout, Flatten\n",
        "# Input data files are available in the \"../input/\" directory.\n",
        "# For example, running this (by clicking run or pressing Shift+Enter) will list the files in the input directory\n",
        "\n",
        "import os\n",
        "from tqdm import tqdm\n",
        "from sklearn import preprocessing\n",
        "from sklearn.model_selection import train_test_split\n",
        "import cv2\n",
        "print(os.listdir(\"../input\"))\n",
        "\n",
        "# Any results you write to the current directory are saved as output."
      ],
      "metadata": {
        "_uuid": "8f2839f25d086af736a60e9eeb907d3b93b6e0e5",
        "_cell_guid": "b1076dfc-b9ad-4769-8c92-a6c4dae69d19"
      },
      "outputs": [],
      "execution_count": null,
      "cell_type": "code"
    },
    {
      "source": [
        "!ls ../input/keras-pretrained-models/"
      ],
      "metadata": {
        "_uuid": "32d64e15419f8994a096a0e971af795d4cc4db2a",
        "_cell_guid": "8c6d7349-c956-43b0-83ea-77baae9a60fe"
      },
      "outputs": [],
      "execution_count": null,
      "cell_type": "code"
    },
    {
      "source": [
        "cache_dir = os.path.expanduser(os.path.join(\"~\", \".keras\"))\n",
        "if not os.path.exists(cache_dir):\n",
        "    os.makedirs(cache_dir)\n",
        "models_dir = os.path.join(cache_dir, 'models')\n",
        "if not os.path.exists(models_dir):\n",
        "    os.makedirs(models_dir)"
      ],
      "metadata": {
        "_uuid": "eb5cfc8cfe9a2fdb3310daa79f1e2bf1c3559729",
        "collapsed": true,
        "_cell_guid": "82e0d7b1-e542-4daa-a5ba-62763eab4d10"
      },
      "outputs": [],
      "execution_count": null,
      "cell_type": "code"
    },
    {
      "source": [
        "!cp ../input/keras-pretrained-models/vgg16_weights_tf_dim_ordering_tf_kernels_notop.h5 ~/.keras/models/\n",
        "!cp ../input/keras-pretrained-models/imagenet_class_index.json ~/.keras/models/\n",
        "# !cp ../input/keras-pretrained-models/resnet50* ~/.keras/models/"
      ],
      "metadata": {
        "_uuid": "ae7b56a3870cb54d29038605d04d3725f5e81068",
        "collapsed": true,
        "_cell_guid": "59e748d0-8608-439d-bc11-cafc81aec8a2"
      },
      "outputs": [],
      "execution_count": null,
      "cell_type": "code"
    },
    {
      "source": [
        "!ls ~/.keras/models"
      ],
      "metadata": {
        "_uuid": "833b926cd55230e7fda0bd2cb70f858fb2a76561",
        "_cell_guid": "c54824ca-762a-4fee-9557-50f5bd1414bd"
      },
      "outputs": [],
      "execution_count": null,
      "cell_type": "code"
    },
    {
      "source": [
        "df_train = pd.read_csv(\"../input/dog-breed-identification/labels.csv\")\n",
        "df_test = pd.read_csv(\"../input/dog-breed-identification/sample_submission.csv\")"
      ],
      "metadata": {
        "_uuid": "d629ff2d2480ee46fbb7e2d37f6b5fab8052498a",
        "collapsed": true,
        "_cell_guid": "79c7e3d0-c299-4dcb-8224-4455121ee9b0"
      },
      "outputs": [],
      "execution_count": null,
      "cell_type": "code"
    },
    {
      "source": [
        "df_train.head(10)"
      ],
      "metadata": {
        "_uuid": "f2caa702354ace8b6a1a56e2ca14de8accdeb61e",
        "_cell_guid": "0fcd2fa5-3a29-44c2-84f4-2edd0f5d88e7"
      },
      "outputs": [],
      "execution_count": null,
      "cell_type": "code"
    },
    {
      "source": [
        "targets_series = pd.Series(df_train[\"breed\"])\n",
        "one_hot = pd.get_dummies(targets_series, sparse=True)"
      ],
      "metadata": {
        "_uuid": "d523ea3790a374feb07a8fba734cfd429fc81174",
        "collapsed": true,
        "_cell_guid": "8403ea72-bf6e-4c6f-8b78-95b0d1b3761f"
      },
      "outputs": [],
      "execution_count": null,
      "cell_type": "code"
    },
    {
      "source": [
        "one_hot_labels = np.asarray(one_hot)"
      ],
      "metadata": {
        "_uuid": "140d8309ef55e3ea4c0da0469a6fbe1409c2c850",
        "collapsed": true,
        "_cell_guid": "89298979-ef94-4919-a822-ac3b8c00ddd6"
      },
      "outputs": [],
      "execution_count": null,
      "cell_type": "code"
    },
    {
      "source": [
        "one_hot_labels.shape"
      ],
      "metadata": {
        "_uuid": "61d4f57bfc61714b5b1ac2272b9d32fbc3baf919",
        "_cell_guid": "630b3a4a-800a-41b5-888c-659479cb55c2"
      },
      "outputs": [],
      "execution_count": null,
      "cell_type": "code"
    },
    {
      "source": [
        "im_size = 145"
      ],
      "metadata": {
        "_uuid": "904cbdf04fe29bc73fceb7bd8fa9069d9bf7f634",
        "collapsed": true,
        "_cell_guid": "980e2476-5d14-4c2c-8e71-14e5e805de0b"
      },
      "outputs": [],
      "execution_count": null,
      "cell_type": "code"
    },
    {
      "source": [
        "x_train = []\n",
        "y_train = []\n",
        "# x_test = []"
      ],
      "metadata": {
        "_uuid": "a05ef115c8be71591e3d940f35644a25726a9722",
        "collapsed": true,
        "_cell_guid": "bc16d9fd-adbe-48b8-be9e-260bf87bff1a"
      },
      "outputs": [],
      "execution_count": null,
      "cell_type": "code"
    },
    {
      "source": [
        "i = 0\n",
        "for f, breed in tqdm(df_train.values):\n",
        "    img = cv2.imread(\"../input/dog-breed-identification/train/{}.jpg\".format(f))\n",
        "    label = one_hot_labels[i]\n",
        "    x_train.append(cv2.resize(img, (im_size, im_size)))\n",
        "    y_train.append(label)\n",
        "    i += 1"
      ],
      "metadata": {
        "_uuid": "15fc4e003b845a4996985f272d9339421106ee4d",
        "_cell_guid": "1fef84b5-c156-44e0-a7f4-8524a33e34e9"
      },
      "outputs": [],
      "execution_count": null,
      "cell_type": "code"
    },
    {
      "source": [
        "# for f in tqdm(df_test[\"id\"].values):\n",
        "#     img = cv2.imread(\"../input/dog-breed-identification/test/{}.jpg\".format(f))\n",
        "#     x_test.append(cv2.resize(img, (im_size, im_size)))"
      ],
      "metadata": {
        "_uuid": "173e957b97c87ab1e3c95a9d3d912d3deb0745a2",
        "collapsed": true,
        "_cell_guid": "b4c10e96-3be7-4df7-8d97-b66e15d9eea6"
      },
      "outputs": [],
      "execution_count": null,
      "cell_type": "code"
    },
    {
      "source": [
        "size_generator = 250\n",
        "x_train_raw = np.array([])\n",
        "# max_limit = min(size_generator, len(x_train))\n",
        "# x_interime = np.array(x_train[0:max_limit], np.float32)/255\n",
        "# np.concatenate([x_train_raw, x_interime])\n",
        "# del x_train[0:max_limit]\n",
        "while True:\n",
        "    max_limit = min(size_generator, len(x_train))\n",
        "    x_interime = np.array(x_train[0:max_limit], np.float32)/255\n",
        "    if x_train_raw.shape == (0,):\n",
        "        x_train_raw = x_interime\n",
        "    else:\n",
        "        x_train_raw = np.concatenate([x_train_raw, x_interime])\n",
        "    del x_train[0:max_limit]\n",
        "    print(x_train_raw.shape)\n",
        "    print(len(x_train))\n",
        "    if len(x_train) == 0:\n",
        "        break\n"
      ],
      "metadata": {
        "_uuid": "a09e46c4d6414046014202e6b4b9ff8dd350078b",
        "scrolled": true,
        "_cell_guid": "ee952c25-8ffa-49af-b337-4c8bbaab03a2"
      },
      "outputs": [],
      "execution_count": null,
      "cell_type": "code"
    },
    {
      "source": [
        "\n",
        "# x_train_raw = np.array(x_train, np.float32)/255.\n",
        "x_train = None\n",
        "y_train_raw = np.array(y_train, np.uint8)\n",
        "# x_test = np.array(x_test, np.float32)/255."
      ],
      "metadata": {
        "_uuid": "8a2f3b7008171c7513d44dba857dd071612b1c26",
        "collapsed": true,
        "_cell_guid": "903eeb17-7c3e-4f64-89f2-5433bd13855c"
      },
      "outputs": [],
      "execution_count": null,
      "cell_type": "code"
    },
    {
      "source": [
        "print(x_train_raw.shape)\n",
        "print(y_train_raw.shape)\n",
        "# print(x_test.shape)"
      ],
      "metadata": {
        "_uuid": "38680a645b98ea9be5301789c5aca7a8d845d1df",
        "_cell_guid": "dab00075-7cb9-4434-bb8d-0f3b0d7c1cf1"
      },
      "outputs": [],
      "execution_count": null,
      "cell_type": "code"
    },
    {
      "source": [
        "num_class = y_train_raw.shape[1]"
      ],
      "metadata": {
        "_uuid": "4b80e1ea02d456bd5b781b7d75683b50abbd3d91",
        "collapsed": true,
        "_cell_guid": "b6d60b29-b534-4e34-aa4a-3ba5b04dceb0"
      },
      "outputs": [],
      "execution_count": null,
      "cell_type": "code"
    },
    {
      "source": [
        "# X_train, X_valid, Y_train, Y_valid = train_test_split(x_train_raw, y_train_raw, test_size=0.3, random_state=1)\n",
        "train_propotion = 0.7\n",
        "rnd = np.random.random(x_train_raw.shape[0])\n",
        "train_idx = rnd < train_propotion\n",
        "valid_idx = rnd >= train_propotion\n"
      ],
      "metadata": {
        "_uuid": "0d232adb41e7d9feffb53bf3720b75ef2d9eb48d",
        "collapsed": true,
        "_cell_guid": "2940db0f-cede-4d8c-b914-531a1c676b65"
      },
      "outputs": [],
      "execution_count": null,
      "cell_type": "code"
    },
    {
      "source": [
        "x_train_raw.size"
      ],
      "metadata": {
        "_uuid": "7f62bcb87ca895eeae4c5968f6e2d482960cce10",
        "_cell_guid": "28460a83-5326-4e04-a2f3-5b84dc2ae7d6"
      },
      "outputs": [],
      "execution_count": null,
      "cell_type": "code"
    },
    {
      "source": [
        "X_train, Y_train, X_valid, Y_valid = (x_train_raw[train_idx], y_train_raw[train_idx], \n",
        "                                      x_train_raw[valid_idx], y_train_raw[valid_idx])\n",
        "x_train_raw = None\n",
        "y_train_raw = None"
      ],
      "metadata": {
        "_uuid": "689ac74987e77c7cbc41a05058299ab442803588",
        "collapsed": true,
        "_cell_guid": "3fed50e2-40dd-4bdb-8ac8-a5a0588aebbf"
      },
      "outputs": [],
      "execution_count": null,
      "cell_type": "code"
    },
    {
      "source": [
        "base_model = VGG16(weights=\"imagenet\", include_top=False, input_shape=(im_size, im_size, 3))\n",
        "x = base_model.output\n",
        "x = Flatten()(x)\n",
        "x = Dense(2048, activation=\"relu\")(x)\n",
        "x = Dense(1024, activation=\"relu\")(x)\n",
        "x = Dropout(0.5)(x)\n",
        "predictions = Dense(num_class, activation=\"softmax\")(x)\n",
        "\n",
        "model = Model(inputs=base_model.input, outputs=predictions)\n",
        "for layer in base_model.layers:\n",
        "    layer.trainable = False\n",
        "\n",
        "model.compile(loss=\"categorical_crossentropy\", optimizer=\"adam\", metrics=[\"accuracy\"])\n",
        "callbacks_list = [keras.callbacks.EarlyStopping(monitor=\"val_acc\", patience=3, \n",
        "                                               verbose=1)]\n",
        "model.summary()"
      ],
      "metadata": {
        "_uuid": "5084708b2baafa10a36bf1a1f15d48602ecd04c4",
        "_cell_guid": "4369d2e9-748b-4283-b080-0a23dd504cb1"
      },
      "outputs": [],
      "execution_count": null,
      "cell_type": "code"
    },
    {
      "source": [
        "model.fit(X_train, Y_train, epochs=25, \n",
        "          validation_data=(X_valid, Y_valid), verbose=1)"
      ],
      "metadata": {
        "_uuid": "78e7de41a94e15d1dcb5f6559b5c4b171e319098",
        "scrolled": true,
        "_cell_guid": "a63fa209-4a8c-424f-b0b1-ddebad7ba22d"
      },
      "cell_type": "markdown"
    },
    {
      "source": [],
      "metadata": {
        "_uuid": "6cc254bf34b410963a5dfb733817aa552dcd5a2a",
        "collapsed": true,
        "_cell_guid": "cc3e8ba0-3da8-4db6-867b-ad5de2189e3a"
      },
      "outputs": [],
      "execution_count": null,
      "cell_type": "code"
    }
  ],
  "nbformat": 4
}